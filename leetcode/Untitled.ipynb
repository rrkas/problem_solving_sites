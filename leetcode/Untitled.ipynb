{
 "cells": [
  {
   "cell_type": "code",
   "execution_count": 1,
   "id": "b06e6ccb",
   "metadata": {},
   "outputs": [],
   "source": [
    "import os\n",
    "\n",
    "import chromedriver_autoinstaller\n",
    "from selenium import webdriver\n",
    "from selenium.webdriver.chrome.options import Options\n",
    "from selenium.webdriver.common.by import By\n",
    "from selenium.webdriver.support import expected_conditions as EC\n",
    "from selenium.webdriver.support.ui import WebDriverWait\n",
    "from tqdm import tqdm\n",
    "\n",
    "try:\n",
    "    chromedriver_autoinstaller.install()\n",
    "except BaseException as e:\n",
    "    print(e)\n",
    "\n",
    "\n",
    "def set_chrome_options():\n",
    "    chrome_options = Options()\n",
    "    for e in [\n",
    "        \"enable-automation\",\n",
    "        \"start-maximized\",\n",
    "        \"disable-infobars\",\n",
    "        \"--disable-infobars\",\n",
    "        #         \"--headless\",\n",
    "        \"--no-sandbox\",\n",
    "        \"--force-device-scale-factor=1\",\n",
    "        \"--disable-extensions\",\n",
    "        \"--disable-dev-shm-usage\",\n",
    "        \"--disable-gpu\",\n",
    "    ]:\n",
    "        chrome_options.add_argument(e)\n",
    "\n",
    "    chrome_prefs = {\"profile.managed_default_content_settings.images\": 2}\n",
    "    chrome_options.experimental_options[\"prefs\"] = chrome_prefs\n",
    "    chrome_prefs[\"profile.default_content_settings\"] = {\"images\": 2}\n",
    "    chrome_options.add_experimental_option(\"excludeSwitches\", [\"enable-logging\"])\n",
    "    return chrome_options\n",
    "\n",
    "\n",
    "def get_driver(url):\n",
    "    # start = datetime.datetime.now()\n",
    "    driver = webdriver.Chrome(options=set_chrome_options())\n",
    "    # driver = webdriver.Remote(desired_capabilities=webdriver.DesiredCapabilities.HTMLUNIT)\n",
    "    driver.implicitly_wait(0.05)\n",
    "    driver.set_page_load_timeout(60 * 60 * 60)\n",
    "    driver.get(url)\n",
    "    # end = datetime.datetime.now()\n",
    "    # print(end - start)\n",
    "    return driver"
   ]
  },
  {
   "cell_type": "code",
   "execution_count": 2,
   "id": "9840de4b",
   "metadata": {},
   "outputs": [],
   "source": [
    "driver = get_driver(\"https://leetcode.com/problems/two-sum/\")"
   ]
  },
  {
   "cell_type": "code",
   "execution_count": 8,
   "id": "4a6bc229",
   "metadata": {},
   "outputs": [
    {
     "name": "stdout",
     "output_type": "stream",
     "text": [
      "Given an array of integers nums and an integer target, return indices of the two numbers such that they add up to target.\n",
      "You may assume that each input would have exactly one solution, and you may not use the same element twice.\n",
      "You can return the answer in any order.\n",
      "\n",
      "Example 1:\n",
      "Input: nums = [2,7,11,15], target = 9\n",
      "Output: [0,1]\n",
      "Explanation: Because nums[0] + nums[1] == 9, we return [0, 1].\n",
      "\n",
      "Example 2:\n",
      "Input: nums = [3,2,4], target = 6\n",
      "Output: [1,2]\n",
      "\n",
      "Example 3:\n",
      "Input: nums = [3,3], target = 6\n",
      "Output: [0,1]\n",
      "\n",
      "Constraints:\n",
      "2 <= nums.length <= 104\n",
      "-109 <= nums[i] <= 109\n",
      "-109 <= target <= 109\n",
      "Only one valid answer exists.\n",
      "\n",
      "Follow-up: Can you come up with an algorithm that is less than O(n2) time complexity?\n"
     ]
    }
   ],
   "source": [
    "wrapper = driver.find_element(\n",
    "    By.XPATH, '//*[@id=\"qd-content\"]/div[1]/div/div/div/div[2]/div/div/div[3]/div'\n",
    ")\n",
    "data = wrapper.text\n",
    "for line in data.splitlines():\n",
    "    line = line.strip()\n",
    "    if any([line.startswith(e) for e in [\"Example\", \"Constraints\", \"Follow-up\"]]):\n",
    "        print()\n",
    "    print(line)"
   ]
  },
  {
   "cell_type": "code",
   "execution_count": null,
   "id": "6d5df6f1",
   "metadata": {},
   "outputs": [],
   "source": []
  }
 ],
 "metadata": {
  "kernelspec": {
   "display_name": "Python 3 (ipykernel)",
   "language": "python",
   "name": "python3"
  },
  "language_info": {
   "codemirror_mode": {
    "name": "ipython",
    "version": 3
   },
   "file_extension": ".py",
   "mimetype": "text/x-python",
   "name": "python",
   "nbconvert_exporter": "python",
   "pygments_lexer": "ipython3",
   "version": "3.9.1"
  }
 },
 "nbformat": 4,
 "nbformat_minor": 5
}
